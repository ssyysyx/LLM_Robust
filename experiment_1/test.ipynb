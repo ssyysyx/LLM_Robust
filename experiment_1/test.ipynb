{
 "cells": [
  {
   "cell_type": "code",
   "execution_count": 1,
   "metadata": {},
   "outputs": [],
   "source": [
    "import pandas as pd\n",
    "dataset_names = ['imdb', 'yelp', 'sst-2']\n",
    "model_names = ['gpt-3.5-turbo', 'gpt-4-turbo','gpt-4o']"
   ]
  },
  {
   "cell_type": "code",
   "execution_count": 2,
   "metadata": {},
   "outputs": [],
   "source": [
    "def get_original(df):\n",
    "    cnt = 0\n",
    "    num = 500\n",
    "\n",
    "    for index, row in df.iterrows():\n",
    "        label = row['label']\n",
    "        result_original = row['result_original']\n",
    "        if (label == 1 and result_original == \"positive\" or label == 0 and result_original == \"negative\"):\n",
    "            cnt += 1\n",
    "        else:\n",
    "            print(str(label) + result_original, end='; ')\n",
    "    print()\n",
    "\n",
    "    return(cnt / num)"
   ]
  },
  {
   "cell_type": "code",
   "execution_count": 3,
   "metadata": {},
   "outputs": [],
   "source": [
    "def get_attacked(df):\n",
    "    cnt = 0\n",
    "    num = 500\n",
    "\n",
    "    for index, row in df.iterrows():\n",
    "        label = row['label']\n",
    "        result_attacked = row['result_attacked']\n",
    "        if (label == 1 and result_attacked == \"positive\" or label == 0 and result_attacked == \"negative\"):\n",
    "            cnt += 1\n",
    "        else:\n",
    "            print(str(label) + result_attacked, end='; ')\n",
    "            \n",
    "    print()\n",
    "\n",
    "    return(cnt / num)"
   ]
  },
  {
   "cell_type": "code",
   "execution_count": 4,
   "metadata": {},
   "outputs": [
    {
     "name": "stdout",
     "output_type": "stream",
     "text": [
      "1negative; 1negative; 1negative; 1negative; 0positive; 1negative; 1negative; 1negative; 1negative; 1negative; 1negative; 0positive; 1negative; 1negative; 0positive; 0positive; 0positive; 1negative; 1negative; 0positive; 0positive; 1negative; 0positive; \n",
      "dataset: imdb     model: gpt-3.5-turbo    result_original: 0.954\n",
      "1negative; 1negative; 1negative; 1negative; 1negative; 1negative; 1negative; 1negative; 1negative; 1negative; 1negative; 1negative; 1negative; 1negative; 1negative; 1negative; 1negative; 1negative; 1negative; 1negative; 1negative; 1negative; 1negative; 1negative; 1negative; 0positive; 1negative; 1negative; 1negative; 1negative; 0positive; 1negative; 1negative; 1negative; 1negative; 1negative; 1negative; 1negative; 1negative; 1negative; 1negative; 1negative; 1negative; 1negative; 1negative; 1negative; 1negative; 1negative; 1negative; 1negative; 1negative; 1negative; 1negative; 1negative; 1negative; 1negative; 1negative; 1negative; 1negative; 1negative; 1negative; 1negative; 1negative; 1negative; 1negative; 1negative; 1negative; 1negative; 1negative; 1negative; 1negative; 1negative; 1negative; 1negative; 1negative; 1negative; 1negative; 1negative; 0positive; 1negative; 1negative; 1negative; 1negative; 1negative; 1negative; 1negative; 1negative; 1negative; 1negative; 1negative; 1negative; 1negative; 1negative; 1negative; 1negative; 1negative; 1negative; 1negative; 1negative; 1negative; 1negative; 1negative; 1negative; 1negative; 1negative; 0positive; 1negative; 1negative; 1negative; 1negative; 1negative; 1negative; 1negative; 1negative; 1negative; 0positive; 1negative; 1negative; 1negative; 0positive; 1negative; 1negative; 1negative; 1negative; 1negative; 1negative; \n",
      "dataset: imdb     model: gpt-3.5-turbo    result_attacked: 0.748\n",
      "\n",
      "1negative; 1negative; 1negative; 0positive; 1negative; 1negative; 1negative; 1negative; 1negative; 1negative; 0positive; 0positive; 0positive; 1negative; 0positive; 1Positive; 1negative; 0positive; 1negative; 0positive; \n",
      "dataset: imdb     model: gpt-4-turbo    result_original: 0.96\n",
      "1negative; 1negative; 1negative; 1negative; 1negative; 1negative; 1negative; 1negative; 1negative; 1negative; 1negative; 1negative; 1negative; 1negative; 1negative; 1negative; 1negative; 1negative; 1negative; 1negative; 1negative; 1negative; 1negative; 1negative; 1negative; 1negative; 1negative; 1negative; 1negative; 1negative; 1negative; 1negative; 1negative; 1negative; 1negative; 1negative; 1negative; 1negative; 1negative; 1negative; 1negative; 1negative; 1negative; 1negative; 1negative; 1negative; 1negative; 1negative; 1negative; 1negative; 1negative; 1negative; 1negative; 1negative; 1negative; 1negative; 1negative; 1negative; 1negative; 1negative; 1negative; 1negative; 1negative; 1negative; 1negative; 1negative; 1negative; 1negative; 1negative; 1negative; 1negative; 1negative; 1negative; 1negative; 1negative; 1negative; 1negative; 1negative; 1negative; 1negative; 1negative; 1negative; 1negative; 1negative; 1negative; 1negative; 1negative; 1negative; 1negative; 1negative; 1negative; 1negative; 1negative; 1negative; 1negative; 1negative; 1negative; 1negative; 1negative; 1negative; 1negative; 1negative; 1negative; 1negative; 1negative; 1negative; 1negative; 1negative; 1negative; 1negative; 1negative; 1negative; 1negative; 1negative; 1negative; 1negative; 1negative; 1negative; 1negative; 1negative; 1negative; 1negative; 1negative; 1negative; 1negative; 1negative; 1negative; 1negative; 1negative; 1negative; 1negative; 1negative; 1negative; 1negative; 1negative; 1negative; 1negative; 1Positive; 1negative; 1negative; 1negative; 1negative; 1negative; 1negative; 1negative; 1negative; 1negative; 1negative; 1negative; 1negative; 1negative; 1negative; 1negative; 1negative; 1negative; 1negative; 1negative; 1negative; 1negative; 1negative; 1negative; 1negative; 1negative; 1negative; 1negative; 1negative; 1negative; \n",
      "dataset: imdb     model: gpt-4-turbo    result_attacked: 0.666\n",
      "\n",
      "1negative; 1Negative; 1Positive; 1Negative; 1negative; 1Positive; 0positive; 1Positive; 1Positive; 1negative; 1negative; 1Negative; 0Negative; 1negative; 1Positive; 1Negative; 1Positive; 1negative; 1negative; 1negative; 1negative; 0positive; 0Negative; 0Negative; 0positive; 1Negative; 0positive; 1Positive; 1negative; 0positive; 1negative; 1Negative; \n",
      "dataset: imdb     model: gpt-4o    result_original: 0.936\n",
      "1Positive; 1negative; 1negative; 1negative; 0Negative; 1negative; 1negative; 1Positive; 1Negative; 1Positive; 1negative; 1negative; 1negative; 1negative; 1negative; 1negative; 0Negative; 1Positive; 0positive; 1Positive; 1negative; 1negative; 1Negative; 1Negative; 0Negative; 1negative; 1Negative; 1negative; 1negative; 1negative; 1negative; 1negative; 1negative; 1Positive; 1Positive; 1Negative; 1negative; 1negative; 1Positive; 1negative; 1Negative; 1negative; 1negative; 1negative; 1negative; 1negative; 1Positive; 1negative; 0Negative; 1negative; 1negative; 1Positive; 1negative; 1negative; 0Negative; 1Positive; 1negative; 0positive; 1negative; 1negative; 1Positive; 1negative; 1Positive; 1Positive; 0Positive; 0Negative; 1negative; 0Negative; 1negative; 0Negative; 1Positive; 1Negative; 1Negative; 1Positive; 1negative; 1negative; 1Positive; 0positive; 1negative; 1negative; 1negative; 0Negative; 1negative; 1negative; 1negative; 1Negative; 1Positive; 1negative; 1negative; 0Negative; 1Negative; 1Negative; 1Positive; 1negative; \n",
      "dataset: imdb     model: gpt-4o    result_attacked: 0.812\n",
      "\n",
      "0positive; 1negative; 1negative; 1negative; 1negative; 1negative; 1negative; 1negative; 1negative; 1negative; 0positive; \n",
      "dataset: yelp     model: gpt-3.5-turbo    result_original: 0.978\n",
      "1negative; 1negative; 1negative; 1negative; 1negative; 1negative; 1negative; 1negative; 1negative; 1negative; 1negative; 1negative; 1negative; 0positive; 1negative; 1negative; 1negative; 1negative; 1negative; 1negative; 1negative; 1negative; 1negative; 1negative; 1negative; 1negative; 1negative; 1negative; 1negative; 1negative; 1negative; 1negative; 0positive; 1negative; 1negative; 1negative; 1negative; 1negative; 1negative; 1negative; 1negative; 1negative; 1negative; 1negative; 1negative; 1negative; 1negative; 1negative; 1negative; 1negative; 1negative; 1negative; 1negative; 1negative; 1negative; 0positive; 1negative; 1negative; 1negative; 1negative; 1negative; 1negative; 1negative; 1negative; 1negative; 1negative; 1negative; 1negative; 1negative; 1negative; 1negative; 1negative; 1negative; 1negative; 1negative; 0positive; 1negative; 1negative; 1negative; 1negative; \n",
      "dataset: yelp     model: gpt-3.5-turbo    result_attacked: 0.84\n",
      "\n",
      "0positive; 1negative; 1negative; 1negative; 0positive; \n",
      "dataset: yelp     model: gpt-4-turbo    result_original: 0.99\n",
      "1negative; 1negative; 1negative; 1negative; 1negative; 1negative; 1negative; 1negative; 1negative; 1negative; 1negative; 1negative; 1negative; 1negative; 1negative; 1negative; 1negative; 1negative; 1negative; 1negative; 1negative; 1negative; 1negative; 1negative; 1negative; 1negative; 1negative; 1negative; 1negative; 1negative; 1negative; 1negative; 1negative; 1negative; 1negative; 1negative; 1negative; 1negative; 1negative; 1negative; 1negative; 1negative; 1negative; 1negative; 1negative; 1negative; 1negative; 1negative; 1negative; 1negative; 1negative; 1negative; 1negative; 1negative; 1negative; 1negative; 1negative; 1negative; 1negative; 1negative; 1negative; 1negative; 1negative; 1negative; 1negative; 1negative; 1negative; 1negative; 1negative; 1negative; 1negative; 1negative; 1negative; 1negative; 1negative; 1negative; 1negative; 1negative; 1negative; 1negative; 1negative; 1negative; 1negative; 1negative; 1negative; 1negative; 1negative; 1negative; 1negative; 1negative; 1negative; 1negative; 1negative; 1negative; 1negative; 1negative; 1negative; 1negative; 1negative; 1negative; 1negative; 1negative; 1negative; 1negative; 1negative; 1negative; 1negative; 1negative; 1negative; 1negative; 1negative; 1negative; 1negative; 1negative; \n",
      "dataset: yelp     model: gpt-4-turbo    result_attacked: 0.772\n",
      "\n",
      "0positive; 1negative; 1negative; 1negative; 1negative; 1negative; 1negative; 1negative; 1negative; 0Negative; \n",
      "dataset: yelp     model: gpt-4o    result_original: 0.98\n",
      "1Positive; 0positive; 1negative; 1negative; 0positive; 1negative; 1negative; 1negative; 1negative; 1negative; 1negative; 1negative; 1negative; 1negative; 1negative; 1Positive; 1negative; 1negative; 1negative; 0positive; 1negative; 1negative; 1negative; 1negative; 1Positive; 1Negative; 1negative; 1negative; 1negative; 0Negative; 1negative; 1negative; 0Negative; 1Positive; 1negative; 1negative; 1Positive; \n",
      "dataset: yelp     model: gpt-4o    result_attacked: 0.926\n",
      "\n",
      "0positive; 1negative; 0positive; 0positive; 0positive; 1negative; 1negative; 1negative; 1negative; 1negative; 0positive; 0positive; 1negative; 0positive; 1negative; 1negative; 1negative; 1negative; 1negative; 0positive; 0positive; 1negative; 1negative; \n",
      "dataset: sst-2     model: gpt-3.5-turbo    result_original: 0.954\n",
      "0positive; 1negative; 1negative; 1negative; 1negative; 1negative; 1negative; 1negative; 1negative; 1negative; 1negative; 1negative; 1negative; 1negative; 1negative; 1negative; 1negative; 1negative; 1negative; 1negative; 1negative; 1negative; 1negative; 1negative; 1negative; 1negative; 1negative; 1negative; 1negative; 1negative; 1negative; 1negative; 1negative; 1negative; 1negative; 1negative; 1negative; 1negative; 1negative; 1negative; 1negative; 1negative; 1negative; 1negative; 1negative; 1negative; 1negative; 1negative; 1negative; 1negative; 1negative; 1negative; 1negative; 1negative; 1negative; 1negative; 1negative; 1negative; 1negative; 1negative; 1negative; 1negative; 1negative; 1negative; 1negative; 1negative; 1negative; 1negative; 1negative; 1negative; 1negative; 1negative; 1negative; 1negative; 1negative; 1negative; 1negative; 1negative; 1negative; 1negative; 1negative; 1negative; 1negative; 1negative; 1negative; 1negative; 1negative; 1negative; 0positive; 1negative; 1negative; 1negative; 1negative; 1negative; 1negative; 1negative; 1negative; 1negative; 1negative; 1negative; 1negative; 1negative; 1negative; 1negative; 1negative; 1negative; 1negative; 1negative; 1negative; 1negative; 1negative; 1negative; 1negative; 1negative; 1negative; 1negative; 1negative; 1negative; 1negative; 1negative; 1negative; 1negative; 1negative; 1negative; 1negative; 1negative; 1negative; 1negative; 1negative; 1negative; 1negative; 1negative; 1negative; 1negative; 1negative; 1negative; 1negative; 1negative; 1negative; 1negative; 1negative; 1negative; 1negative; 1negative; 1negative; 1negative; 1negative; 0positive; 1negative; 1negative; 1negative; 1negative; 1negative; 1negative; 1negative; 1negative; 1negative; 1negative; 1negative; 1negative; 1negative; 0positive; 1negative; 1negative; 1negative; 0positive; 1negative; 1negative; 1negative; 1negative; 1negative; 1negative; 1negative; 1negative; 1negative; 1negative; 1negative; 1negative; 1negative; 1negative; 1negative; 1negative; 1negative; 1negative; 1negative; 1negative; 1negative; 1negative; 1negative; 1negative; 1negative; 1negative; 1negative; \n",
      "dataset: sst-2     model: gpt-3.5-turbo    result_attacked: 0.614\n",
      "\n",
      "1negative; 0positive; 1negative; 1negative; 0positive; 1negative; 1negative; 1negative; 1negative; 0positive; 0positive; 0positive; 0positive; 1negative; 1negative; 1negative; \n",
      "dataset: sst-2     model: gpt-4-turbo    result_original: 0.968\n",
      "1negative; 1negative; 1negative; 1negative; 1negative; 1negative; 1negative; 1negative; 1negative; 1negative; 1negative; 1negative; 1negative; 1negative; 1negative; 1negative; 1negative; 1negative; 1negative; 1negative; 1negative; 1negative; 1negative; 1negative; 1negative; 1negative; 1negative; 1negative; 1negative; 1negative; 1negative; 1negative; 1negative; 1negative; 1negative; 1negative; 1negative; 1negative; 1negative; 1negative; 1negative; 1negative; 1negative; 1negative; 1negative; 1negative; 1negative; 1negative; 1negative; 1negative; 1negative; 1negative; 1negative; 1negative; 1negative; 1negative; 1negative; 1negative; 1negative; 1negative; 1negative; 1negative; 1negative; 1negative; 1negative; 1negative; 1negative; 1negative; 1negative; 1negative; 1negative; 1negative; 1negative; 1negative; 1negative; 1negative; 1negative; 1negative; 1negative; 1negative; 1negative; 1negative; 1negative; 1negative; 1negative; 1negative; 1negative; 1negative; 1negative; 1negative; 1negative; 1negative; 1negative; 1negative; 1negative; 1negative; 1negative; 1negative; 1negative; 1negative; 1negative; 1negative; 1negative; 1negative; 1negative; 1negative; 1negative; 1negative; 1negative; 1negative; 1negative; 1negative; 1negative; 1negative; 1negative; 1negative; 1negative; 1negative; 1negative; 1negative; 1negative; 1negative; 1negative; 1negative; 1negative; 1negative; 1negative; 1negative; 1negative; 1negative; 1negative; 1negative; 1negative; 1negative; 1negative; 1negative; 1negative; 1negative; 1negative; 1negative; 1negative; 1negative; 1negative; 1negative; 1negative; 1negative; 1negative; 1negative; 1negative; 1negative; 1negative; 1negative; 1negative; 1negative; 1negative; 1negative; 1negative; 1negative; 1negative; 1negative; 1negative; 1negative; 1negative; 1negative; 1negative; 1negative; 1negative; 1negative; 1negative; 1negative; 1negative; 1negative; 1negative; 1negative; 1negative; 1negative; 1negative; 1negative; 1negative; 1negative; 1negative; 1negative; 1negative; 1negative; 1negative; 1negative; 1negative; 1negative; 1negative; 1negative; 1negative; 1negative; 1negative; 1negative; 1negative; 1negative; 1negative; 1negative; 1negative; 1negative; 1negative; 1negative; 1negative; 1negative; 1negative; 1negative; 1negative; 1negative; 1negative; 1negative; 1negative; 1negative; 1negative; 1negative; 1negative; 1negative; 1negative; 1negative; 1negative; 1negative; 1negative; 1negative; 1negative; 1negative; \n",
      "dataset: sst-2     model: gpt-4-turbo    result_attacked: 0.552\n",
      "\n",
      "1negative; 1negative; 1negative; 0positive; 1negative; 1negative; 1negative; 1negative; 1negative; 1negative; 1negative; 1negative; 1negative; 1negative; 0positive; 1negative; 1negative; 1negative; 1negative; 1negative; 1negative; 1negative; 1negative; 1negative; 1negative; 1negative; 1negative; 1negative; 1negative; \n",
      "dataset: sst-2     model: gpt-4o    result_original: 0.942\n",
      "1negative; 1negative; 1negative; 1negative; 1negative; 1negative; 1negative; 1negative; 1negative; 1negative; 1negative; 1negative; 1negative; 1negative; 1negative; 1negative; 1negative; 1negative; 1negative; 1negative; 1negative; 1negative; 1negative; 1negative; 1negative; 1negative; 1negative; 1negative; 1negative; 1negative; 1negative; 1negative; 1negative; 1negative; 1negative; 1negative; 1negative; 1negative; 1negative; 1negative; 1negative; 1negative; 1negative; 1negative; 1negative; 1negative; 1negative; 1negative; 1negative; 1negative; 1negative; 1negative; 1negative; 1negative; 1negative; 1negative; 1negative; 1negative; 1negative; 1negative; 1negative; 1negative; 1negative; 1negative; 1negative; 1negative; 1negative; 1negative; 1negative; 1negative; 1negative; 1negative; 1negative; 1negative; 1negative; 1negative; 1negative; 1negative; 1negative; 0positive; 1negative; 1negative; 1negative; 1negative; 1negative; 1negative; 1negative; 1negative; 1negative; 1negative; 1negative; 1negative; 1negative; 1negative; 1negative; 1negative; 1negative; 1negative; 1negative; 1negative; 1negative; 1negative; 1negative; 1negative; 1negative; 1negative; 1negative; 0positive; 1negative; 1negative; 1negative; 1negative; 1negative; 1negative; 1negative; 1negative; 1negative; 1negative; 1negative; 1negative; 1negative; 1negative; 1negative; 1negative; 1negative; 1negative; 1negative; 1negative; 1negative; 1negative; 1negative; 1negative; 1negative; 1negative; 1negative; 1negative; 1negative; 1negative; 1negative; \n",
      "dataset: sst-2     model: gpt-4o    result_attacked: 0.722\n",
      "\n"
     ]
    }
   ],
   "source": [
    "for dataset in dataset_names:\n",
    "    for model in model_names:\n",
    "        df = pd.read_pickle(f'./results/{dataset}_{model}_results.pkl')\n",
    "\n",
    "        print(\"dataset: \" + dataset + \"     model: \" + model + \"    result_original: \" + str(get_original(df)))\n",
    "        \n",
    "        print(\"dataset: \" + dataset + \"     model: \" + model + \"    result_attacked: \" + str(get_attacked(df)))\n",
    "        print()"
   ]
  },
  {
   "cell_type": "code",
   "execution_count": null,
   "metadata": {},
   "outputs": [],
   "source": []
  },
  {
   "cell_type": "code",
   "execution_count": null,
   "metadata": {},
   "outputs": [],
   "source": []
  }
 ],
 "metadata": {
  "kernelspec": {
   "display_name": "lmql",
   "language": "python",
   "name": "python3"
  },
  "language_info": {
   "codemirror_mode": {
    "name": "ipython",
    "version": 3
   },
   "file_extension": ".py",
   "mimetype": "text/x-python",
   "name": "python",
   "nbconvert_exporter": "python",
   "pygments_lexer": "ipython3",
   "version": "3.10.14"
  }
 },
 "nbformat": 4,
 "nbformat_minor": 2
}
