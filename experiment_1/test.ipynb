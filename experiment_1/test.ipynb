{
 "cells": [
  {
   "cell_type": "code",
   "execution_count": 2,
   "metadata": {},
   "outputs": [],
   "source": [
    "import pandas as pd\n",
    "dataset_names = ['imdb', 'yelp', 'sst-2']\n",
    "model_names = ['gpt-3.5-turbo', 'gpt-4-turbo','gpt-4o']\n",
    "method_names = ['delete', 'insert', 'replace', 'mix']"
   ]
  },
  {
   "cell_type": "code",
   "execution_count": 3,
   "metadata": {},
   "outputs": [],
   "source": [
    "def get_original(df):\n",
    "    cnt = 0\n",
    "    num = 278\n",
    "\n",
    "    for index, row in df.iterrows():\n",
    "        label = row['label']\n",
    "        result_original = row['result_original']\n",
    "        if (label == 1 and result_original == \"positive\" or label == 0 and result_original == \"negative\"):\n",
    "            cnt += 1\n",
    "        # else:\n",
    "        #     print(str(label) + result_original, end='; ')\n",
    "    # print()\n",
    "\n",
    "    return(cnt / num)"
   ]
  },
  {
   "cell_type": "code",
   "execution_count": 4,
   "metadata": {},
   "outputs": [],
   "source": [
    "def get_attacked(df):\n",
    "    cnt = 0\n",
    "    num = 278\n",
    "\n",
    "    for index, row in df.iterrows():\n",
    "        label = row['label']\n",
    "        result_attacked = row['result_attacked']\n",
    "        if (label == 1 and result_attacked == \"positive\" or label == 0 and result_attacked == \"negative\"):\n",
    "            cnt += 1\n",
    "        # else:\n",
    "        #     print(str(label) + result_attacked, end='; ')\n",
    "    \n",
    "    # print()\n",
    "\n",
    "    return(cnt / num)"
   ]
  },
  {
   "cell_type": "markdown",
   "metadata": {},
   "source": [
    "把result_original贴回去"
   ]
  },
  {
   "cell_type": "code",
   "execution_count": 22,
   "metadata": {},
   "outputs": [],
   "source": [
    "import pickle\n",
    "\n",
    "dataset_names = ['imdb', 'yelp', 'sst-2']\n",
    "model_names = ['gpt-3.5-turbo', 'gpt-4-turbo', 'gpt-4o']\n",
    "method_names = ['delete', 'insert', 'replace', 'mix']\n",
    "perturb_probs = [0.15, 0.35, 0.55, 0.75, 0.95]\n",
    "\n",
    "dataset = 'sst-2'\n",
    "model = 'gpt-4-turbo'\n",
    "perturb_old = 0.95\n",
    "action_old = 'delete'\n",
    "\n",
    "perturb_news = [0.15, 0.35, 0.55, 0.75]\n",
    "action_news = ['delete', 'insert', 'replace', 'mix']\n",
    "\n",
    "for perturb_new in perturb_news:\n",
    "    for action_new in action_news:\n",
    "        file_src = f'./result_278/{dataset}_{model}_{action_old}_{perturb_old}.pkl'\n",
    "        file_dst = f'./result_278/{dataset}_{model}_{action_new}_{perturb_new}.pkl'\n",
    "        csv_dst = f'./result_278/{dataset}_{model}_{action_new}_{perturb_new}.csv'\n",
    "\n",
    "        with open(file_src, \"rb\") as f:\n",
    "            result1 = pickle.load(f)\n",
    "\n",
    "        with open(file_dst, \"rb\") as f:\n",
    "            result2 = pickle.load(f)\n",
    "\n",
    "        result2[\"result_original\"] = result1[\"result_original\"]\n",
    "\n",
    "        with open(file_dst, \"wb\") as f:\n",
    "            pickle.dump(result2, f)\n",
    "\n",
    "        result2.to_csv(csv_dst, index=False)"
   ]
  },
  {
   "cell_type": "markdown",
   "metadata": {},
   "source": [
    "test all perturb_prob: 0.95"
   ]
  },
  {
   "cell_type": "code",
   "execution_count": 23,
   "metadata": {},
   "outputs": [
    {
     "name": "stdout",
     "output_type": "stream",
     "text": [
      "dataset: sst-2     model: gpt-4-turbo     method: delete      perturb_prob: 0.15    result_original: 0.9748201438848921\n",
      "\n",
      "dataset: sst-2     model: gpt-4-turbo     method: delete      perturb_prob: 0.35    result_original: 0.9748201438848921\n",
      "\n",
      "dataset: sst-2     model: gpt-4-turbo     method: delete      perturb_prob: 0.55    result_original: 0.9748201438848921\n",
      "\n",
      "dataset: sst-2     model: gpt-4-turbo     method: delete      perturb_prob: 0.75    result_original: 0.9748201438848921\n",
      "\n",
      "dataset: sst-2     model: gpt-4-turbo     method: delete      perturb_prob: 0.95    result_original: 0.9748201438848921\n",
      "\n",
      "dataset: sst-2     model: gpt-4-turbo     method: insert      perturb_prob: 0.15    result_original: 0.9748201438848921\n",
      "\n",
      "dataset: sst-2     model: gpt-4-turbo     method: insert      perturb_prob: 0.35    result_original: 0.9748201438848921\n",
      "\n",
      "dataset: sst-2     model: gpt-4-turbo     method: insert      perturb_prob: 0.55    result_original: 0.9748201438848921\n",
      "\n",
      "dataset: sst-2     model: gpt-4-turbo     method: insert      perturb_prob: 0.75    result_original: 0.9748201438848921\n",
      "\n",
      "dataset: sst-2     model: gpt-4-turbo     method: insert      perturb_prob: 0.95    result_original: 0.9748201438848921\n",
      "\n",
      "dataset: sst-2     model: gpt-4-turbo     method: replace      perturb_prob: 0.15    result_original: 0.9748201438848921\n",
      "\n",
      "dataset: sst-2     model: gpt-4-turbo     method: replace      perturb_prob: 0.35    result_original: 0.9748201438848921\n",
      "\n",
      "dataset: sst-2     model: gpt-4-turbo     method: replace      perturb_prob: 0.55    result_original: 0.9748201438848921\n",
      "\n",
      "dataset: sst-2     model: gpt-4-turbo     method: replace      perturb_prob: 0.75    result_original: 0.9748201438848921\n",
      "\n",
      "dataset: sst-2     model: gpt-4-turbo     method: replace      perturb_prob: 0.95    result_original: 0.9748201438848921\n",
      "\n",
      "dataset: sst-2     model: gpt-4-turbo     method: mix      perturb_prob: 0.15    result_original: 0.9748201438848921\n",
      "\n",
      "dataset: sst-2     model: gpt-4-turbo     method: mix      perturb_prob: 0.35    result_original: 0.9748201438848921\n",
      "\n",
      "dataset: sst-2     model: gpt-4-turbo     method: mix      perturb_prob: 0.55    result_original: 0.9748201438848921\n",
      "\n",
      "dataset: sst-2     model: gpt-4-turbo     method: mix      perturb_prob: 0.75    result_original: 0.9748201438848921\n",
      "\n",
      "dataset: sst-2     model: gpt-4-turbo     method: mix      perturb_prob: 0.95    result_original: 0.9712230215827338\n",
      "\n"
     ]
    }
   ],
   "source": [
    "dataset_names = ['imdb', 'yelp', 'sst-2']\n",
    "model_names = ['gpt-3.5-turbo', 'gpt-4-turbo', 'gpt-4o']\n",
    "method_names = ['delete', 'insert', 'replace', 'mix']\n",
    "perturb_probs = [0.15, 0.35, 0.55, 0.75, 0.95]\n",
    "\n",
    "for dataset in dataset_names[2:3]:\n",
    "    for model in model_names[1:2]:\n",
    "        for method in method_names:\n",
    "            for perturb_prob in perturb_probs:\n",
    "                df = pd.read_pickle(f'./result_278/{dataset}_{model}_{method}_{perturb_prob}.pkl')\n",
    "\n",
    "                print(\"dataset: \" + dataset + \"     model: \" + model + \"     method: \" + method + \"      perturb_prob: \" + str(perturb_prob) + \"    result_original: \" + str(get_original(df)))\n",
    "                # print(\"dataset: \" + dataset + \"     model: \" + model + \"     method: \" + method + \"      perturb_prob: \" + str(perturb_prob) + \"    result_attacked: \" + str(get_attacked(df)))\n",
    "                print()"
   ]
  },
  {
   "cell_type": "code",
   "execution_count": null,
   "metadata": {},
   "outputs": [],
   "source": [
    "for dataset in dataset_names:\n",
    "    for model in model_names:\n",
    "        df = pd.read_pickle(f'./results/{dataset}_{model}_results.pkl')\n",
    "\n",
    "        print(\"dataset: \" + dataset + \"     model: \" + model + \"    result_original: \" + str(get_original(df)))\n",
    "        \n",
    "        print(\"dataset: \" + dataset + \"     model: \" + model + \"    result_attacked: \" + str(get_attacked(df)))\n",
    "        print()"
   ]
  },
  {
   "cell_type": "markdown",
   "metadata": {},
   "source": [
    "test ablation"
   ]
  },
  {
   "cell_type": "code",
   "execution_count": null,
   "metadata": {},
   "outputs": [],
   "source": [
    "import pandas as pd\n",
    "dataset_names = ['imdb', 'yelp', 'sst-2']\n",
    "model_names = ['gpt-4o']\n",
    "method_names = ['mix']\n",
    "perturb_probs = ['0.75', '0.55', '0.35', '0.15']\n",
    "\n",
    "for dataset in dataset_names:\n",
    "    for model in model_names:\n",
    "        for method in method_names:\n",
    "            for perturb_prob in perturb_probs:\n",
    "                df = pd.read_pickle(f'./result_ablation_278/{dataset}_{model}_{method}_{perturb_prob}.pkl')\n",
    "\n",
    "                print(\"dataset: \" + dataset + \"     model: \" + model + \"     method: \" + method + \n",
    "                      \"      perturb_prob: \" + perturb_prob + \n",
    "                      \"    result_original: \" + str(get_original(df)))\n",
    "                \n",
    "                print(\"dataset: \" + dataset + \"     model: \" + model + \"     method: \" + method + \n",
    "                      \"      perturb_prob: \" + perturb_prob + \n",
    "                      \"    result_attacked: \" + str(get_attacked(df)))\n",
    "                print()"
   ]
  }
 ],
 "metadata": {
  "kernelspec": {
   "display_name": "base",
   "language": "python",
   "name": "python3"
  },
  "language_info": {
   "codemirror_mode": {
    "name": "ipython",
    "version": 3
   },
   "file_extension": ".py",
   "mimetype": "text/x-python",
   "name": "python",
   "nbconvert_exporter": "python",
   "pygments_lexer": "ipython3",
   "version": "3.10.14"
  }
 },
 "nbformat": 4,
 "nbformat_minor": 2
}
