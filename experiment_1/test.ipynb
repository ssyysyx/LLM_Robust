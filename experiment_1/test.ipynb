{
 "cells": [
  {
   "cell_type": "code",
   "execution_count": 2,
   "metadata": {},
   "outputs": [],
   "source": [
    "import pandas as pd\n",
    "dataset_names = ['imdb', 'yelp', 'sst-2']\n",
    "model_names = ['gpt-3.5-turbo', 'gpt-4-turbo','gpt-4o']\n",
    "method_names = ['delete', 'insert', 'replace', 'mix']"
   ]
  },
  {
   "cell_type": "code",
   "execution_count": 3,
   "metadata": {},
   "outputs": [],
   "source": [
    "def get_original(df):\n",
    "    cnt = 0\n",
    "    num = 278\n",
    "\n",
    "    for index, row in df.iterrows():\n",
    "        label = row['label']\n",
    "        result_original = row['result_original']\n",
    "        if (label == 1 and result_original == \"positive\" or label == 0 and result_original == \"negative\"):\n",
    "            cnt += 1\n",
    "        # else:\n",
    "        #     print(str(label) + result_original, end='; ')\n",
    "    # print()\n",
    "\n",
    "    return(cnt / num)"
   ]
  },
  {
   "cell_type": "code",
   "execution_count": 4,
   "metadata": {},
   "outputs": [],
   "source": [
    "def get_attacked(df):\n",
    "    cnt = 0\n",
    "    num = 278\n",
    "\n",
    "    for index, row in df.iterrows():\n",
    "        label = row['label']\n",
    "        result_attacked = row['result_attacked']\n",
    "        if (label == 1 and result_attacked == \"positive\" or label == 0 and result_attacked == \"negative\"):\n",
    "            cnt += 1\n",
    "        # else:\n",
    "        #     print(str(label) + result_attacked, end='; ')\n",
    "    \n",
    "    # print()\n",
    "\n",
    "    return(cnt / num)"
   ]
  },
  {
   "cell_type": "code",
   "execution_count": null,
   "metadata": {},
   "outputs": [],
   "source": [
    "for dataset in dataset_names:\n",
    "    for model in model_names:\n",
    "        df = pd.read_pickle(f'./results/{dataset}_{model}_results.pkl')\n",
    "\n",
    "        print(\"dataset: \" + dataset + \"     model: \" + model + \"    result_original: \" + str(get_original(df)))\n",
    "        \n",
    "        print(\"dataset: \" + dataset + \"     model: \" + model + \"    result_attacked: \" + str(get_attacked(df)))\n",
    "        print()"
   ]
  },
  {
   "cell_type": "markdown",
   "metadata": {},
   "source": [
    "test all perturb_prob: 0.95"
   ]
  },
  {
   "cell_type": "code",
   "execution_count": 6,
   "metadata": {},
   "outputs": [
    {
     "name": "stdout",
     "output_type": "stream",
     "text": [
      "dataset: imdb     model: gpt-3.5-turbo     method: delete      perturb_prob: 0.15    result_original: 0.960431654676259\n",
      "dataset: imdb     model: gpt-3.5-turbo     method: delete      perturb_prob: 0.15    result_attacked: 0.9424460431654677\n",
      "\n",
      "dataset: imdb     model: gpt-3.5-turbo     method: delete      perturb_prob: 0.35    result_original: 0.960431654676259\n",
      "dataset: imdb     model: gpt-3.5-turbo     method: delete      perturb_prob: 0.35    result_attacked: 0.9244604316546763\n",
      "\n",
      "dataset: imdb     model: gpt-3.5-turbo     method: delete      perturb_prob: 0.55    result_original: 0.9640287769784173\n",
      "dataset: imdb     model: gpt-3.5-turbo     method: delete      perturb_prob: 0.55    result_attacked: 0.9064748201438849\n",
      "\n",
      "dataset: imdb     model: gpt-3.5-turbo     method: delete      perturb_prob: 0.75    result_original: 0.9676258992805755\n",
      "dataset: imdb     model: gpt-3.5-turbo     method: delete      perturb_prob: 0.75    result_attacked: 0.8741007194244604\n",
      "\n",
      "dataset: imdb     model: gpt-3.5-turbo     method: delete      perturb_prob: 0.95    result_original: 0.960431654676259\n",
      "dataset: imdb     model: gpt-3.5-turbo     method: delete      perturb_prob: 0.95    result_attacked: 0.8129496402877698\n",
      "\n",
      "dataset: imdb     model: gpt-4-turbo     method: delete      perturb_prob: 0.15    result_original: 0.9532374100719424\n",
      "dataset: imdb     model: gpt-4-turbo     method: delete      perturb_prob: 0.15    result_attacked: 0.9316546762589928\n",
      "\n",
      "dataset: imdb     model: gpt-4-turbo     method: delete      perturb_prob: 0.35    result_original: 0.9496402877697842\n",
      "dataset: imdb     model: gpt-4-turbo     method: delete      perturb_prob: 0.35    result_attacked: 0.9172661870503597\n",
      "\n",
      "dataset: imdb     model: gpt-4-turbo     method: delete      perturb_prob: 0.55    result_original: 0.9460431654676259\n",
      "dataset: imdb     model: gpt-4-turbo     method: delete      perturb_prob: 0.55    result_attacked: 0.89568345323741\n",
      "\n",
      "dataset: imdb     model: gpt-4-turbo     method: delete      perturb_prob: 0.75    result_original: 0.9532374100719424\n",
      "dataset: imdb     model: gpt-4-turbo     method: delete      perturb_prob: 0.75    result_attacked: 0.8273381294964028\n",
      "\n",
      "dataset: imdb     model: gpt-4-turbo     method: delete      perturb_prob: 0.95    result_original: 0.9532374100719424\n",
      "dataset: imdb     model: gpt-4-turbo     method: delete      perturb_prob: 0.95    result_attacked: 0.762589928057554\n",
      "\n",
      "dataset: imdb     model: gpt-4o     method: delete      perturb_prob: 0.15    result_original: 0.935251798561151\n",
      "dataset: imdb     model: gpt-4o     method: delete      perturb_prob: 0.15    result_attacked: 0.9496402877697842\n",
      "\n",
      "dataset: imdb     model: gpt-4o     method: delete      perturb_prob: 0.35    result_original: 0.9388489208633094\n",
      "dataset: imdb     model: gpt-4o     method: delete      perturb_prob: 0.35    result_attacked: 0.935251798561151\n",
      "\n",
      "dataset: imdb     model: gpt-4o     method: delete      perturb_prob: 0.55    result_original: 0.9424460431654677\n",
      "dataset: imdb     model: gpt-4o     method: delete      perturb_prob: 0.55    result_attacked: 0.9280575539568345\n",
      "\n",
      "dataset: imdb     model: gpt-4o     method: delete      perturb_prob: 0.75    result_original: 0.9388489208633094\n",
      "dataset: imdb     model: gpt-4o     method: delete      perturb_prob: 0.75    result_attacked: 0.8920863309352518\n",
      "\n",
      "dataset: imdb     model: gpt-4o     method: delete      perturb_prob: 0.95    result_original: 0.9388489208633094\n",
      "dataset: imdb     model: gpt-4o     method: delete      perturb_prob: 0.95    result_attacked: 0.8489208633093526\n",
      "\n"
     ]
    }
   ],
   "source": [
    "dataset_names = ['imdb', 'yelp', 'sst-2']\n",
    "model_names = ['gpt-3.5-turbo', 'gpt-4-turbo', 'gpt-4o']\n",
    "method_names = ['delete', 'insert', 'replace', 'mix']\n",
    "perturb_probs = [0.15, 0.35, 0.55, 0.75, 0.95]\n",
    "\n",
    "for dataset in dataset_names[0:1]:\n",
    "    for model in model_names:\n",
    "        for method in method_names[0:1]:\n",
    "            for perturb_prob in perturb_probs:\n",
    "                df = pd.read_pickle(f'./result_278/{dataset}_{model}_{method}_{perturb_prob}.pkl')\n",
    "\n",
    "                print(\"dataset: \" + dataset + \"     model: \" + model + \"     method: \" + method + \"      perturb_prob: \" + str(perturb_prob) + \"    result_original: \" + str(get_original(df)))\n",
    "                print(\"dataset: \" + dataset + \"     model: \" + model + \"     method: \" + method + \"      perturb_prob: \" + str(perturb_prob) + \"    result_attacked: \" + str(get_attacked(df)))\n",
    "                print()"
   ]
  },
  {
   "cell_type": "markdown",
   "metadata": {},
   "source": [
    "test ablation"
   ]
  },
  {
   "cell_type": "code",
   "execution_count": null,
   "metadata": {},
   "outputs": [],
   "source": [
    "import pandas as pd\n",
    "dataset_names = ['imdb', 'yelp', 'sst-2']\n",
    "model_names = ['gpt-4o']\n",
    "method_names = ['mix']\n",
    "perturb_probs = ['0.75', '0.55', '0.35', '0.15']\n",
    "\n",
    "for dataset in dataset_names:\n",
    "    for model in model_names:\n",
    "        for method in method_names:\n",
    "            for perturb_prob in perturb_probs:\n",
    "                df = pd.read_pickle(f'./result_ablation_278/{dataset}_{model}_{method}_{perturb_prob}.pkl')\n",
    "\n",
    "                print(\"dataset: \" + dataset + \"     model: \" + model + \"     method: \" + method + \n",
    "                      \"      perturb_prob: \" + perturb_prob + \n",
    "                      \"    result_original: \" + str(get_original(df)))\n",
    "                \n",
    "                print(\"dataset: \" + dataset + \"     model: \" + model + \"     method: \" + method + \n",
    "                      \"      perturb_prob: \" + perturb_prob + \n",
    "                      \"    result_attacked: \" + str(get_attacked(df)))\n",
    "                print()"
   ]
  }
 ],
 "metadata": {
  "kernelspec": {
   "display_name": "base",
   "language": "python",
   "name": "python3"
  },
  "language_info": {
   "codemirror_mode": {
    "name": "ipython",
    "version": 3
   },
   "file_extension": ".py",
   "mimetype": "text/x-python",
   "name": "python",
   "nbconvert_exporter": "python",
   "pygments_lexer": "ipython3",
   "version": "3.10.14"
  }
 },
 "nbformat": 4,
 "nbformat_minor": 2
}
