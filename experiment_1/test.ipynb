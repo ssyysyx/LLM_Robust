{
 "cells": [
  {
   "cell_type": "code",
   "execution_count": 3,
   "metadata": {},
   "outputs": [],
   "source": [
    "import pandas as pd\n",
    "dataset_names = ['imdb', 'yelp', 'sst-2']\n",
    "model_names = ['gpt-3.5-turbo', 'gpt-4-turbo','gpt-4o']\n",
    "method_names = ['delete', 'insert', 'replace', 'mix']"
   ]
  },
  {
   "cell_type": "code",
<<<<<<< HEAD
   "execution_count": 3,
=======
   "execution_count": 4,
>>>>>>> 77218f8b1d8dcb9fbf922a5c34923aa2bbefcc0c
   "metadata": {},
   "outputs": [],
   "source": [
    "def get_original(df):\n",
    "    cnt = 0\n",
    "    num = 278\n",
    "\n",
    "    for index, row in df.iterrows():\n",
    "        label = row['label']\n",
    "        result_original = row['result_original']\n",
    "        if (label == 1 and result_original == \"positive\" or label == 0 and result_original == \"negative\"):\n",
    "            cnt += 1\n",
    "        # else:\n",
    "    #         print(str(label) + result_original, end='; ')\n",
    "    # print()\n",
    "\n",
    "    return(cnt / num)"
   ]
  },
  {
   "cell_type": "code",
<<<<<<< HEAD
   "execution_count": 4,
=======
   "execution_count": 5,
>>>>>>> 77218f8b1d8dcb9fbf922a5c34923aa2bbefcc0c
   "metadata": {},
   "outputs": [],
   "source": [
    "def get_attacked(df):\n",
    "    cnt = 0\n",
    "    num = 278\n",
    "\n",
    "    for index, row in df.iterrows():\n",
    "        label = row['label']\n",
    "        result_attacked = row['result_attacked']\n",
    "        if (label == 1 and result_attacked == \"positive\" or label == 0 and result_attacked == \"negative\"):\n",
    "            cnt += 1\n",
    "    #     else:\n",
    "    #         print(str(label) + result_attacked, end='; ')\n",
    "            \n",
    "    # print()\n",
    "\n",
    "    return(cnt / num)"
   ]
  },
  {
   "cell_type": "code",
   "execution_count": null,
   "metadata": {},
   "outputs": [],
   "source": [
    "for dataset in dataset_names:\n",
    "    for model in model_names:\n",
    "        df = pd.read_pickle(f'./results/{dataset}_{model}_results.pkl')\n",
    "\n",
    "        print(\"dataset: \" + dataset + \"     model: \" + model + \"    result_original: \" + str(get_original(df)))\n",
    "        \n",
    "        print(\"dataset: \" + dataset + \"     model: \" + model + \"    result_attacked: \" + str(get_attacked(df)))\n",
    "        print()"
   ]
  },
  {
   "cell_type": "markdown",
   "metadata": {},
   "source": [
    "test all perturb_prob: 0.95"
   ]
  },
  {
   "cell_type": "code",
   "execution_count": 6,
   "metadata": {},
   "outputs": [
    {
     "name": "stdout",
     "output_type": "stream",
     "text": [
      "dataset: imdb     model: gpt-3.5-turbo     method: delete    result_original: 0.960431654676259\n",
      "dataset: imdb     model: gpt-3.5-turbo     method: delete    result_attacked: 0.8129496402877698\n",
      "dataset: imdb     model: gpt-3.5-turbo     method: insert    result_original: 0.9532374100719424\n",
      "dataset: imdb     model: gpt-3.5-turbo     method: insert    result_attacked: 0.9064748201438849\n",
      "dataset: imdb     model: gpt-3.5-turbo     method: replace    result_original: 0.9532374100719424\n",
      "dataset: imdb     model: gpt-3.5-turbo     method: replace    result_attacked: 0.762589928057554\n",
      "dataset: imdb     model: gpt-3.5-turbo     method: mix    result_original: 0.9568345323741008\n",
      "dataset: imdb     model: gpt-3.5-turbo     method: mix    result_attacked: 0.8093525179856115\n",
      "dataset: imdb     model: gpt-4-turbo     method: delete    result_original: 0.9532374100719424\n",
      "dataset: imdb     model: gpt-4-turbo     method: delete    result_attacked: 0.762589928057554\n",
      "dataset: imdb     model: gpt-4-turbo     method: insert    result_original: 0.9460431654676259\n",
      "dataset: imdb     model: gpt-4-turbo     method: insert    result_attacked: 0.8705035971223022\n",
      "dataset: imdb     model: gpt-4-turbo     method: replace    result_original: 0.9496402877697842\n",
      "dataset: imdb     model: gpt-4-turbo     method: replace    result_attacked: 0.6906474820143885\n",
      "dataset: imdb     model: gpt-4-turbo     method: mix    result_original: 0.9532374100719424\n",
      "dataset: imdb     model: gpt-4-turbo     method: mix    result_attacked: 0.7086330935251799\n",
      "dataset: imdb     model: gpt-4o     method: delete    result_original: 0.9388489208633094\n",
      "dataset: imdb     model: gpt-4o     method: delete    result_attacked: 0.8489208633093526\n",
      "dataset: imdb     model: gpt-4o     method: insert    result_original: 0.9388489208633094\n",
      "dataset: imdb     model: gpt-4o     method: insert    result_attacked: 0.935251798561151\n",
      "dataset: imdb     model: gpt-4o     method: replace    result_original: 0.9388489208633094\n",
      "dataset: imdb     model: gpt-4o     method: replace    result_attacked: 0.8309352517985612\n",
      "dataset: imdb     model: gpt-4o     method: mix    result_original: 0.9388489208633094\n",
      "dataset: imdb     model: gpt-4o     method: mix    result_attacked: 0.8669064748201439\n",
      "dataset: yelp     model: gpt-3.5-turbo     method: delete    result_original: 0.9640287769784173\n",
      "dataset: yelp     model: gpt-3.5-turbo     method: delete    result_attacked: 0.8237410071942446\n",
      "dataset: yelp     model: gpt-3.5-turbo     method: insert    result_original: 0.9640287769784173\n",
      "dataset: yelp     model: gpt-3.5-turbo     method: insert    result_attacked: 0.9064748201438849\n",
      "dataset: yelp     model: gpt-3.5-turbo     method: replace    result_original: 0.960431654676259\n",
      "dataset: yelp     model: gpt-3.5-turbo     method: replace    result_attacked: 0.802158273381295\n",
      "dataset: yelp     model: gpt-3.5-turbo     method: mix    result_original: 0.9640287769784173\n",
      "dataset: yelp     model: gpt-3.5-turbo     method: mix    result_attacked: 0.8273381294964028\n",
      "dataset: yelp     model: gpt-4-turbo     method: delete    result_original: 0.9748201438848921\n",
      "dataset: yelp     model: gpt-4-turbo     method: delete    result_attacked: 0.8057553956834532\n",
      "dataset: yelp     model: gpt-4-turbo     method: insert    result_original: 0.9748201438848921\n",
      "dataset: yelp     model: gpt-4-turbo     method: insert    result_attacked: 0.935251798561151\n",
      "dataset: yelp     model: gpt-4-turbo     method: replace    result_original: 0.9748201438848921\n",
      "dataset: yelp     model: gpt-4-turbo     method: replace    result_attacked: 0.7302158273381295\n",
      "dataset: yelp     model: gpt-4-turbo     method: mix    result_original: 0.9748201438848921\n",
      "dataset: yelp     model: gpt-4-turbo     method: mix    result_attacked: 0.7661870503597122\n",
      "dataset: yelp     model: gpt-4o     method: delete    result_original: 0.9748201438848921\n",
      "dataset: yelp     model: gpt-4o     method: delete    result_attacked: 0.8741007194244604\n",
      "dataset: yelp     model: gpt-4o     method: insert    result_original: 0.9748201438848921\n",
      "dataset: yelp     model: gpt-4o     method: insert    result_attacked: 0.960431654676259\n",
      "dataset: yelp     model: gpt-4o     method: replace    result_original: 0.9748201438848921\n",
      "dataset: yelp     model: gpt-4o     method: replace    result_attacked: 0.8237410071942446\n",
      "dataset: yelp     model: gpt-4o     method: mix    result_original: 0.9748201438848921\n",
      "dataset: yelp     model: gpt-4o     method: mix    result_attacked: 0.9100719424460432\n",
      "dataset: sst-2     model: gpt-3.5-turbo     method: delete    result_original: 0.9784172661870504\n",
      "dataset: sst-2     model: gpt-3.5-turbo     method: delete    result_attacked: 0.6187050359712231\n",
      "dataset: sst-2     model: gpt-3.5-turbo     method: insert    result_original: 0.9784172661870504\n",
      "dataset: sst-2     model: gpt-3.5-turbo     method: insert    result_attacked: 0.6906474820143885\n",
      "dataset: sst-2     model: gpt-3.5-turbo     method: replace    result_original: 0.9784172661870504\n",
      "dataset: sst-2     model: gpt-3.5-turbo     method: replace    result_attacked: 0.6007194244604317\n",
      "dataset: sst-2     model: gpt-3.5-turbo     method: mix    result_original: 0.9784172661870504\n",
      "dataset: sst-2     model: gpt-3.5-turbo     method: mix    result_attacked: 0.6079136690647482\n",
      "dataset: sst-2     model: gpt-4-turbo     method: delete    result_original: 0.9748201438848921\n",
      "dataset: sst-2     model: gpt-4-turbo     method: delete    result_attacked: 0.5863309352517986\n",
      "dataset: sst-2     model: gpt-4-turbo     method: insert    result_original: 0.9748201438848921\n",
      "dataset: sst-2     model: gpt-4-turbo     method: insert    result_attacked: 0.6618705035971223\n",
      "dataset: sst-2     model: gpt-4-turbo     method: replace    result_original: 0.9748201438848921\n",
      "dataset: sst-2     model: gpt-4-turbo     method: replace    result_attacked: 0.5143884892086331\n",
      "dataset: sst-2     model: gpt-4-turbo     method: mix    result_original: 0.9712230215827338\n",
      "dataset: sst-2     model: gpt-4-turbo     method: mix    result_attacked: 0.5071942446043165\n",
      "dataset: sst-2     model: gpt-4o     method: delete    result_original: 0.9640287769784173\n",
      "dataset: sst-2     model: gpt-4o     method: delete    result_attacked: 0.6726618705035972\n",
      "dataset: sst-2     model: gpt-4o     method: insert    result_original: 0.960431654676259\n",
      "dataset: sst-2     model: gpt-4o     method: insert    result_attacked: 0.8093525179856115\n",
      "dataset: sst-2     model: gpt-4o     method: replace    result_original: 0.9640287769784173\n",
      "dataset: sst-2     model: gpt-4o     method: replace    result_attacked: 0.6330935251798561\n",
      "dataset: sst-2     model: gpt-4o     method: mix    result_original: 0.960431654676259\n",
      "dataset: sst-2     model: gpt-4o     method: mix    result_attacked: 0.6690647482014388\n"
     ]
    }
   ],
   "source": [
    "dataset_names = ['imdb', 'yelp', 'sst-2']\n",
    "model_names = ['gpt-3.5-turbo', 'gpt-4-turbo','gpt-4o']\n",
    "method_names = ['delete', 'insert', 'replace', 'mix']\n",
    "\n",
    "for dataset in dataset_names:\n",
    "    for model in model_names:\n",
    "        for method in method_names:\n",
    "            df = pd.read_pickle(f'./result_278/{dataset}_{model}_{method}.pkl')\n",
    "\n",
    "            print(\"dataset: \" + dataset + \"     model: \" + model + \"     method: \" + method + \"    result_original: \" + str(get_original(df)))\n",
    "            \n",
    "            print(\"dataset: \" + dataset + \"     model: \" + model + \"     method: \" + method + \"    result_attacked: \" + str(get_attacked(df)))\n",
    "            # print()"
   ]
  },
  {
   "cell_type": "markdown",
   "metadata": {},
   "source": [
    "test ablation"
   ]
  },
  {
   "cell_type": "code",
   "execution_count": 7,
   "metadata": {},
   "outputs": [
    {
     "name": "stdout",
     "output_type": "stream",
     "text": [
      "dataset: imdb     model: gpt-4o     method: mix      perturb_prob: 0.75    result_original: 0.0\n",
      "dataset: imdb     model: gpt-4o     method: mix      perturb_prob: 0.75    result_attacked: 0.8776978417266187\n",
      "dataset: imdb     model: gpt-4o     method: mix      perturb_prob: 0.55    result_original: 0.0\n",
      "dataset: imdb     model: gpt-4o     method: mix      perturb_prob: 0.55    result_attacked: 0.9316546762589928\n",
      "dataset: imdb     model: gpt-4o     method: mix      perturb_prob: 0.35    result_original: 0.0\n",
      "dataset: imdb     model: gpt-4o     method: mix      perturb_prob: 0.35    result_attacked: 0.9388489208633094\n",
      "dataset: imdb     model: gpt-4o     method: mix      perturb_prob: 0.15    result_original: 0.0\n",
      "dataset: imdb     model: gpt-4o     method: mix      perturb_prob: 0.15    result_attacked: 0.9532374100719424\n",
      "dataset: yelp     model: gpt-4o     method: mix      perturb_prob: 0.75    result_original: 0.0\n",
      "dataset: yelp     model: gpt-4o     method: mix      perturb_prob: 0.75    result_attacked: 0.9496402877697842\n",
      "dataset: yelp     model: gpt-4o     method: mix      perturb_prob: 0.55    result_original: 0.0\n",
      "dataset: yelp     model: gpt-4o     method: mix      perturb_prob: 0.55    result_attacked: 0.960431654676259\n",
      "dataset: yelp     model: gpt-4o     method: mix      perturb_prob: 0.35    result_original: 0.0\n",
      "dataset: yelp     model: gpt-4o     method: mix      perturb_prob: 0.35    result_attacked: 0.9748201438848921\n",
      "dataset: yelp     model: gpt-4o     method: mix      perturb_prob: 0.15    result_original: 0.0\n",
      "dataset: yelp     model: gpt-4o     method: mix      perturb_prob: 0.15    result_attacked: 0.9820143884892086\n",
      "dataset: sst-2     model: gpt-4o     method: mix      perturb_prob: 0.75    result_original: 0.0\n",
      "dataset: sst-2     model: gpt-4o     method: mix      perturb_prob: 0.75    result_attacked: 0.737410071942446\n",
      "dataset: sst-2     model: gpt-4o     method: mix      perturb_prob: 0.55    result_original: 0.0\n",
      "dataset: sst-2     model: gpt-4o     method: mix      perturb_prob: 0.55    result_attacked: 0.7985611510791367\n",
      "dataset: sst-2     model: gpt-4o     method: mix      perturb_prob: 0.35    result_original: 0.0\n",
      "dataset: sst-2     model: gpt-4o     method: mix      perturb_prob: 0.35    result_attacked: 0.89568345323741\n",
      "dataset: sst-2     model: gpt-4o     method: mix      perturb_prob: 0.15    result_original: 0.0\n",
      "dataset: sst-2     model: gpt-4o     method: mix      perturb_prob: 0.15    result_attacked: 0.9460431654676259\n"
     ]
    }
   ],
   "source": [
    "import pandas as pd\n",
    "dataset_names = ['imdb', 'yelp', 'sst-2']\n",
    "model_names = ['gpt-4o']\n",
    "method_names = ['mix']\n",
    "perturb_probs = ['0.75', '0.55', '0.35', '0.15']\n",
    "\n",
    "for dataset in dataset_names:\n",
    "    for model in model_names:\n",
    "        for method in method_names:\n",
    "            for perturb_prob in perturb_probs:\n",
    "                df = pd.read_pickle(f'./result_ablation_278/{dataset}_{model}_{method}_{perturb_prob}.pkl')\n",
    "\n",
    "                print(\"dataset: \" + dataset + \"     model: \" + model + \"     method: \" + method + \"      perturb_prob: \" + perturb_prob + \"    result_original: \" + str(get_original(df)))\n",
    "                \n",
    "                print(\"dataset: \" + dataset + \"     model: \" + model + \"     method: \" + method + \"      perturb_prob: \" + perturb_prob + \"    result_attacked: \" + str(get_attacked(df)))\n",
    "                # print()"
   ]
  },
  {
<<<<<<< HEAD
   "cell_type": "markdown",
   "metadata": {},
   "source": [
    "test ratio"
   ]
  },
  {
   "cell_type": "code",
   "execution_count": 6,
   "metadata": {},
   "outputs": [
    {
     "name": "stdout",
     "output_type": "stream",
     "text": [
      "dataset: imdb     model: gpt-4o     method: mix      ratio: 0.05    result_original: 0.0\n",
      "dataset: imdb     model: gpt-4o     method: mix      ratio: 0.05    result_attacked: 0.9388489208633094\n",
      "dataset: imdb     model: gpt-4o     method: mix      ratio: 0.1    result_original: 0.0\n",
      "dataset: imdb     model: gpt-4o     method: mix      ratio: 0.1    result_attacked: 0.9136690647482014\n",
      "dataset: imdb     model: gpt-4o     method: mix      ratio: 0.15    result_original: 0.0\n",
      "dataset: imdb     model: gpt-4o     method: mix      ratio: 0.15    result_attacked: 0.8848920863309353\n",
      "dataset: imdb     model: gpt-4o     method: mix      ratio: 0.2    result_original: 0.0\n",
      "dataset: imdb     model: gpt-4o     method: mix      ratio: 0.2    result_attacked: 0.89568345323741\n",
      "dataset: imdb     model: gpt-4o     method: mix      ratio: 0.25    result_original: 0.0\n",
      "dataset: imdb     model: gpt-4o     method: mix      ratio: 0.25    result_attacked: 0.8884892086330936\n",
      "dataset: imdb     model: gpt-4o     method: mix      ratio: 0.3    result_original: 0.0\n",
      "dataset: imdb     model: gpt-4o     method: mix      ratio: 0.3    result_attacked: 0.8381294964028777\n",
      "dataset: imdb     model: gpt-4o     method: mix      ratio: 0.35    result_original: 0.0\n",
      "dataset: imdb     model: gpt-4o     method: mix      ratio: 0.35    result_attacked: 0.8237410071942446\n",
      "dataset: imdb     model: gpt-4o     method: mix      ratio: 0.4    result_original: 0.0\n",
      "dataset: imdb     model: gpt-4o     method: mix      ratio: 0.4    result_attacked: 0.802158273381295\n",
      "dataset: yelp     model: gpt-4o     method: mix      ratio: 0.05    result_original: 0.0\n",
      "dataset: yelp     model: gpt-4o     method: mix      ratio: 0.05    result_attacked: 0.9712230215827338\n",
      "dataset: yelp     model: gpt-4o     method: mix      ratio: 0.1    result_original: 0.0\n",
      "dataset: yelp     model: gpt-4o     method: mix      ratio: 0.1    result_attacked: 0.9784172661870504\n",
      "dataset: yelp     model: gpt-4o     method: mix      ratio: 0.15    result_original: 0.0\n",
      "dataset: yelp     model: gpt-4o     method: mix      ratio: 0.15    result_attacked: 0.960431654676259\n",
      "dataset: yelp     model: gpt-4o     method: mix      ratio: 0.2    result_original: 0.0\n",
      "dataset: yelp     model: gpt-4o     method: mix      ratio: 0.2    result_attacked: 0.9676258992805755\n",
      "dataset: yelp     model: gpt-4o     method: mix      ratio: 0.25    result_original: 0.0\n",
      "dataset: yelp     model: gpt-4o     method: mix      ratio: 0.25    result_attacked: 0.9640287769784173\n",
      "dataset: yelp     model: gpt-4o     method: mix      ratio: 0.3    result_original: 0.0\n",
      "dataset: yelp     model: gpt-4o     method: mix      ratio: 0.3    result_attacked: 0.9316546762589928\n",
      "dataset: yelp     model: gpt-4o     method: mix      ratio: 0.35    result_original: 0.0\n",
      "dataset: yelp     model: gpt-4o     method: mix      ratio: 0.35    result_attacked: 0.9244604316546763\n",
      "dataset: yelp     model: gpt-4o     method: mix      ratio: 0.4    result_original: 0.0\n",
      "dataset: yelp     model: gpt-4o     method: mix      ratio: 0.4    result_attacked: 0.9172661870503597\n",
      "dataset: sst-2     model: gpt-4o     method: mix      ratio: 0.05    result_original: 0.0\n",
      "dataset: sst-2     model: gpt-4o     method: mix      ratio: 0.05    result_attacked: 0.9424460431654677\n",
      "dataset: sst-2     model: gpt-4o     method: mix      ratio: 0.1    result_original: 0.0\n",
      "dataset: sst-2     model: gpt-4o     method: mix      ratio: 0.1    result_attacked: 0.8992805755395683\n",
      "dataset: sst-2     model: gpt-4o     method: mix      ratio: 0.15    result_original: 0.0\n",
      "dataset: sst-2     model: gpt-4o     method: mix      ratio: 0.15    result_attacked: 0.8705035971223022\n",
      "dataset: sst-2     model: gpt-4o     method: mix      ratio: 0.2    result_original: 0.0\n",
      "dataset: sst-2     model: gpt-4o     method: mix      ratio: 0.2    result_attacked: 0.8633093525179856\n",
      "dataset: sst-2     model: gpt-4o     method: mix      ratio: 0.25    result_original: 0.0\n",
      "dataset: sst-2     model: gpt-4o     method: mix      ratio: 0.25    result_attacked: 0.7877697841726619\n",
      "dataset: sst-2     model: gpt-4o     method: mix      ratio: 0.3    result_original: 0.0\n",
      "dataset: sst-2     model: gpt-4o     method: mix      ratio: 0.3    result_attacked: 0.7266187050359713\n",
      "dataset: sst-2     model: gpt-4o     method: mix      ratio: 0.35    result_original: 0.0\n",
      "dataset: sst-2     model: gpt-4o     method: mix      ratio: 0.35    result_attacked: 0.6654676258992805\n",
      "dataset: sst-2     model: gpt-4o     method: mix      ratio: 0.4    result_original: 0.0\n",
      "dataset: sst-2     model: gpt-4o     method: mix      ratio: 0.4    result_attacked: 0.60431654676259\n"
     ]
    }
   ],
   "source": [
    "import pandas as pd\n",
    "dataset_names = ['imdb', 'yelp', 'sst-2']\n",
    "model_names = ['gpt-4o']\n",
    "method_names = ['mix']\n",
    "ratios = ['0.05', '0.1', '0.15', '0.2', '0.25', '0.3', '0.35', '0.4']\n",
    "\n",
    "for dataset in dataset_names:\n",
    "    for model in model_names:\n",
    "        for method in method_names:\n",
    "            for ratio in ratios:\n",
    "                df = pd.read_pickle(f'./result_ratio_278/{dataset}_{model}_{method}_{ratio}.pkl')\n",
    "\n",
    "                print(\"dataset: \" + dataset + \"     model: \" + model + \"     method: \" + method + \"      ratio: \" + ratio + \"    result_original: \" + str(get_original(df)))\n",
    "                \n",
    "                print(\"dataset: \" + dataset + \"     model: \" + model + \"     method: \" + method + \"      ratio: \" + ratio + \"    result_attacked: \" + str(get_attacked(df)))\n",
    "                # print()"
   ]
  },
  {
=======
>>>>>>> 77218f8b1d8dcb9fbf922a5c34923aa2bbefcc0c
   "cell_type": "code",
   "execution_count": null,
   "metadata": {},
   "outputs": [],
   "source": []
  }
 ],
 "metadata": {
  "kernelspec": {
   "display_name": "lmql",
   "language": "python",
   "name": "python3"
  },
  "language_info": {
   "codemirror_mode": {
    "name": "ipython",
    "version": 3
   },
   "file_extension": ".py",
   "mimetype": "text/x-python",
   "name": "python",
   "nbconvert_exporter": "python",
   "pygments_lexer": "ipython3",
   "version": "3.10.14"
  }
 },
 "nbformat": 4,
 "nbformat_minor": 2
}
