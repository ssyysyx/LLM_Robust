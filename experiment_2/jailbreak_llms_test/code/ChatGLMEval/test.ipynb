{
 "cells": [
  {
   "cell_type": "code",
   "execution_count": 3,
   "metadata": {},
   "outputs": [
    {
     "name": "stdout",
     "output_type": "stream",
     "text": [
      "0.6462633451957296\n",
      "0.6704626334519573\n",
      "0.8362989323843416\n"
     ]
    }
   ],
   "source": [
    "import pandas as pd\n",
    "\n",
    "model_names = [\"gpt-3.5-turbo\", \"gpt-4-turbo\", \"gpt-4o\"]\n",
    "\n",
    "for model_name in model_names:\n",
    "    df=pd.read_csv(f\"../../../results/{model_name}_jailbreak_responses_labeled_GeminiEval.csv\", header=0)\n",
    "    zero_ratio = (df['eval_label'] == 0).mean()\n",
    "    print(zero_ratio)\n",
    "    "
   ]
  },
  {
   "cell_type": "code",
   "execution_count": null,
   "metadata": {},
   "outputs": [],
   "source": []
  }
 ],
 "metadata": {
  "kernelspec": {
   "display_name": "lmql",
   "language": "python",
   "name": "python3"
  },
  "language_info": {
   "codemirror_mode": {
    "name": "ipython",
    "version": 3
   },
   "file_extension": ".py",
   "mimetype": "text/x-python",
   "name": "python",
   "nbconvert_exporter": "python",
   "pygments_lexer": "ipython3",
   "version": "3.10.14"
  }
 },
 "nbformat": 4,
 "nbformat_minor": 2
}
