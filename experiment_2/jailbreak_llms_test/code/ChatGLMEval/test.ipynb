{
 "cells": [
  {
   "cell_type": "code",
   "execution_count": 2,
   "metadata": {},
   "outputs": [
    {
     "name": "stdout",
     "output_type": "stream",
     "text": [
      "model: gpt-3.5-turbo\n",
      "detected: 908, total: 1405, percentage: 0.6463\n",
      "\n",
      "model: gpt-4-turbo\n",
      "detected: 942, total: 1405, percentage: 0.6705\n",
      "\n",
      "model: gpt-4o\n",
      "detected: 1175, total: 1405, percentage: 0.8363\n",
      "\n"
     ]
    }
   ],
   "source": [
    "import pandas as pd\n",
    "\n",
    "model_names = [\"gpt-3.5-turbo\", \"gpt-4-turbo\", \"gpt-4o\"]\n",
    "\n",
    "for model_name in model_names:\n",
    "    df = pd.read_csv(f\"../../../results/{model_name}_jailbreak_responses_labeled_GeminiEval.csv\", header=0)\n",
    "    zero_count = (df['eval_label'] == 0).sum()   \n",
    "    total_count = len(df)                        \n",
    "    ratio = zero_count / total_count\n",
    "    \n",
    "    print(f\"model: {model_name}\")\n",
    "    print(f\"detected: {zero_count}, total: {total_count}, percentage: {ratio:.4f}\\n\")"
   ]
  },
  {
   "cell_type": "code",
   "execution_count": null,
   "metadata": {},
   "outputs": [],
   "source": []
  }
 ],
 "metadata": {
  "kernelspec": {
   "display_name": "lmql",
   "language": "python",
   "name": "python3"
  },
  "language_info": {
   "codemirror_mode": {
    "name": "ipython",
    "version": 3
   },
   "file_extension": ".py",
   "mimetype": "text/x-python",
   "name": "python",
   "nbconvert_exporter": "python",
   "pygments_lexer": "ipython3",
   "version": "3.10.14"
  }
 },
 "nbformat": 4,
 "nbformat_minor": 2
}
