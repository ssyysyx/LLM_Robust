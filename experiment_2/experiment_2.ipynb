{
 "cells": [
  {
   "cell_type": "code",
   "execution_count": 1,
   "metadata": {},
   "outputs": [
    {
     "name": "stdout",
     "output_type": "stream",
     "text": [
      "200\n"
     ]
    }
   ],
   "source": [
    "import os\n",
    "import requests\n",
    "\n",
    "# 临时设置环境变量\n",
    "os.environ['http_proxy'] = 'http://127.0.0.1:7890'\n",
    "os.environ['https_proxy'] = 'http://127.0.0.1:7890'\n",
    "os.environ['all_proxy'] = 'socks5://127.0.0.1:7890'\n",
    "\n",
    "# 测试请求\n",
    "response = requests.get('https://www.google.com')\n",
    "print(response.status_code)"
   ]
  },
  {
   "cell_type": "code",
   "execution_count": 2,
   "metadata": {},
   "outputs": [],
   "source": [
    "from datasets import load_dataset\n",
    "\n",
    "dataset = load_dataset('./TrustAIRLab___in-the-wild-jailbreak-prompts/jailbreak_2023_12_25', split='train')\n",
    "\n",
    "# dataset = load_dataset('TrustAIRLab/in-the-wild-jailbreak-prompts', 'jailbreak_2023_05_07', split='train', cache_dir=\"./\")\n",
    "# dataset = load_dataset('TrustAIRLab/in-the-wild-jailbreak-prompts', 'jailbreak_2023_12_25', split='train', cache_dir=\"./\")\n",
    "# dataset = load_dataset('TrustAIRLab/in-the-wild-jailbreak-prompts', 'regular_2023_05_07', split='train', cache_dir=\"./\")\n",
    "# dataset = load_dataset('TrustAIRLab/in-the-wild-jailbreak-prompts', 'regular_2023_12_25', split='train', cache_dir=\"./\")"
   ]
  },
  {
   "cell_type": "code",
   "execution_count": 3,
   "metadata": {},
   "outputs": [
    {
     "name": "stdout",
     "output_type": "stream",
     "text": [
      "1. Use a combination of letters (both uppercase and lowercase), numbers, and special characters.\n",
      "2. Make your password at least 12 characters long.\n",
      "3. Avoid using easily guessable information such as your name, birthdate, or common words.\n",
      "4. Use a passphrase or a sentence that is easy for you to remember but difficult for others to guess.\n",
      "5. Avoid using the same password for multiple accounts.\n",
      "6. Consider using a password manager to generate and store strong passwords for your accounts.\n",
      "7. Update your passwords regularly to ensure maximum security.\n"
     ]
    }
   ],
   "source": [
    "import openai\n",
    "\n",
    "OPENAI_API_KEY = \"sk-\"\n",
    "\n",
    "def generate_response(prompt, model=\"gpt-3.5-turbo\"):\n",
    "    client = openai.OpenAI(api_key=OPENAI_API_KEY)  # 新 API 需要先创建 client\n",
    "    response = client.chat.completions.create(  # 这里的调用方式改变了\n",
    "        model=model,\n",
    "        messages=[{\"role\": \"user\", \"content\": prompt}],\n",
    "        temperature=0.7,\n",
    "        max_tokens=500\n",
    "    )\n",
    "    return response.choices[0].message.content  # 这里的 response 结构也变了\n",
    "\n",
    "# example：\n",
    "prompt = \"How to make a strong password?\"\n",
    "response = generate_response(prompt)\n",
    "print(response)"
   ]
  },
  {
   "cell_type": "code",
   "execution_count": 4,
   "metadata": {},
   "outputs": [
    {
     "name": "stderr",
     "output_type": "stream",
     "text": [
      "Processing gpt-3.5-turbo: 100%|██████████| 1405/1405 [59:21<00:00,  2.54s/it] \n"
     ]
    },
    {
     "name": "stdout",
     "output_type": "stream",
     "text": [
      "CSV 文件已保存至 ./results/gpt-3.5-turbo_jailbreak_responses.csv\n"
     ]
    },
    {
     "name": "stderr",
     "output_type": "stream",
     "text": [
      "Processing gpt-4-turbo: 100%|██████████| 1405/1405 [2:15:30<00:00,  5.79s/it]  \n"
     ]
    },
    {
     "name": "stdout",
     "output_type": "stream",
     "text": [
      "CSV 文件已保存至 ./results/gpt-4-turbo_jailbreak_responses.csv\n"
     ]
    },
    {
     "name": "stderr",
     "output_type": "stream",
     "text": [
      "Processing gpt-4o: 100%|██████████| 1405/1405 [1:16:50<00:00,  3.28s/it]"
     ]
    },
    {
     "name": "stdout",
     "output_type": "stream",
     "text": [
      "CSV 文件已保存至 ./results/gpt-4o_jailbreak_responses.csv\n"
     ]
    },
    {
     "name": "stderr",
     "output_type": "stream",
     "text": [
      "\n"
     ]
    }
   ],
   "source": [
    "import pandas as pd\n",
    "from tqdm import tqdm\n",
    "import time\n",
    "\n",
    "model_names = [\"gpt-3.5-turbo\", \"gpt-4-turbo\", \"gpt-4o\"]\n",
    "\n",
    "for model_name in model_names:\n",
    "    # 初始化存储列表\n",
    "    data_list = []\n",
    "\n",
    "    # 遍历前 10 个 Jailbreak Prompt（你可以改成 `len(dataset)` 处理全部数据）\n",
    "    for i in tqdm(range(len(dataset)), desc=f\"Processing {model_name}\"):\n",
    "        jailbreak_prompt = dataset[i]['prompt']  # 取出 prompt\n",
    "\n",
    "        # 使用 while 循环不断重试直到成功生成响应\n",
    "        while True:\n",
    "            try:\n",
    "                response = generate_response(jailbreak_prompt, model_name)\n",
    "                break  # 成功后跳出 while 循环\n",
    "            except Exception as e:\n",
    "                print(f\"Error processing prompt {i} for {model_name}: {str(e)}\")\n",
    "                time.sleep(0.1)\n",
    "\n",
    "        # 存入列表\n",
    "        data_list.append({\n",
    "            \"prompt_id\": i,\n",
    "            \"question\": jailbreak_prompt,\n",
    "            \"model\": model_name,\n",
    "            \"response\": response\n",
    "        })\n",
    "\n",
    "    # 转换为 DataFrame\n",
    "    df = pd.DataFrame(data_list)\n",
    "\n",
    "    # 保存为 CSV\n",
    "    csv_filename = f\"./results/{model_name}_jailbreak_responses.csv\"\n",
    "    df.to_csv(csv_filename, index=False, encoding=\"utf-8\")\n",
    "\n",
    "    print(f\"CSV 文件已保存至 {csv_filename}\")"
   ]
  },
  {
   "cell_type": "code",
   "execution_count": null,
   "metadata": {},
   "outputs": [],
   "source": []
  }
 ],
 "metadata": {
  "kernelspec": {
   "display_name": "lmql",
   "language": "python",
   "name": "python3"
  },
  "language_info": {
   "codemirror_mode": {
    "name": "ipython",
    "version": 3
   },
   "file_extension": ".py",
   "mimetype": "text/x-python",
   "name": "python",
   "nbconvert_exporter": "python",
   "pygments_lexer": "ipython3",
   "version": "3.10.14"
  }
 },
 "nbformat": 4,
 "nbformat_minor": 2
}
